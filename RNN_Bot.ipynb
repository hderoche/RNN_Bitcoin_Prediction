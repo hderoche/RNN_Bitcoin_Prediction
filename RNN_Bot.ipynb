{
  "nbformat": 4,
  "nbformat_minor": 0,
  "metadata": {
    "colab": {
      "name": "RNN.ipynb",
      "provenance": [],
      "collapsed_sections": [],
      "toc_visible": true,
      "authorship_tag": "ABX9TyNjQz2jaaFnY6U4r5WB74QG",
      "include_colab_link": true
    },
    "kernelspec": {
      "name": "python3",
      "display_name": "Python 3"
    }
  },
  "cells": [
    {
      "cell_type": "markdown",
      "metadata": {
        "id": "view-in-github",
        "colab_type": "text"
      },
      "source": [
        "<a href=\"https://colab.research.google.com/github/hderoche/RNN_Bitcoin_Prediction/blob/master/RNN_Bot.ipynb\" target=\"_parent\"><img src=\"https://colab.research.google.com/assets/colab-badge.svg\" alt=\"Open In Colab\"/></a>"
      ]
    },
    {
      "cell_type": "markdown",
      "metadata": {
        "id": "i-NU9yKoYn0F"
      },
      "source": [
        "## Importing"
      ]
    },
    {
      "cell_type": "code",
      "metadata": {
        "id": "bIMDS2IDYdZY"
      },
      "source": [
        "import numpy as np\n",
        "import pandas as pd\n",
        "import matplotlib.pyplot as plt\n",
        "import tensorflow as tf\n",
        "import tensorflow.keras.layers as layer\n",
        "from sklearn.preprocessing import MinMaxScaler"
      ],
      "execution_count": 4,
      "outputs": []
    },
    {
      "cell_type": "markdown",
      "metadata": {
        "id": "4dUZPiqJYrwo"
      },
      "source": [
        "## Data Selection"
      ]
    },
    {
      "cell_type": "code",
      "metadata": {
        "colab": {
          "base_uri": "https://localhost:8080/"
        },
        "id": "pW_sLacrYuQX",
        "outputId": "05578218-4c8b-4285-ed37-487a87a513e5"
      },
      "source": [
        "data = pd.read_csv('Bitstamp_BTCUSD_1h.csv', header=0, sep=';')\n",
        "data['diff'] = data['close'] - data['open']\n",
        "data = data.drop(['unix', 'date', 'symbol', 'Volume USD', 'open'], axis=1)\n",
        "print(data.head())"
      ],
      "execution_count": 5,
      "outputs": [
        {
          "output_type": "stream",
          "text": [
            "       high       low     close  Volume BTC    diff\n",
            "0  21420.00  21244.04  21262.73  297.057663  -96.23\n",
            "1  21576.76  21218.58  21365.70  639.172448  -27.85\n",
            "2  21464.97  21203.77  21393.45  667.725259  186.95\n",
            "3  21320.61  20740.55  21215.49  844.146644  385.38\n",
            "4  20865.29  20758.58  20819.44  688.197022   49.33\n"
          ],
          "name": "stdout"
        }
      ]
    },
    {
      "cell_type": "markdown",
      "metadata": {
        "id": "WxcuX3zKag0R"
      },
      "source": [
        "Splitting the data into two parts\n",
        "\n",
        "1.   Training data\n",
        "2.   Testing data\n",
        "\n",
        "The split_index is the percentage of the training data over the testing data\n"
      ]
    },
    {
      "cell_type": "code",
      "metadata": {
        "colab": {
          "base_uri": "https://localhost:8080/"
        },
        "id": "0vXJh5FnZlEx",
        "outputId": "84e573db-7ecd-4cb9-a1ab-1e944cae0bdd"
      },
      "source": [
        "# In percentage\n",
        "split_index = 70\n",
        "\n",
        "index = int(np.floor(abs(data.shape[0] * split_index/100)))\n",
        "\n",
        "data_train, data_test = data.loc[:index, :], data.loc[index + 1:, :]\n",
        "\n",
        "print(data_train.shape)\n",
        "print(data_test.shape)\n"
      ],
      "execution_count": 6,
      "outputs": [
        {
          "output_type": "stream",
          "text": [
            "(15906, 5)\n",
            "(6816, 5)\n"
          ],
          "name": "stdout"
        }
      ]
    },
    {
      "cell_type": "code",
      "metadata": {
        "colab": {
          "base_uri": "https://localhost:8080/"
        },
        "id": "3QAa7QI8dqk0",
        "outputId": "c79fda51-0ce4-47ce-8b01-d48a0dcf7d5e"
      },
      "source": [
        "scaler = MinMaxScaler(feature_range=(0,1))\n",
        "data_training, data_testing = scaler.fit_transform(data_train), scaler.fit_transform(data_test)\n",
        "\n",
        "## Getting the data for the train and test part\n",
        "x_train = []\n",
        "y_train = []\n",
        "\n",
        "def data_selection(data_to_select):\n",
        "    X = []\n",
        "    y = []\n",
        "    for i in range(data_to_select.shape[0] - 60):\n",
        "        subset = []\n",
        "        y.append(data_to_select[i + 60, 3])\n",
        "        for j in range(60):\n",
        "            subset.append(data_to_select[i + j])\n",
        "        X.append(subset)\n",
        "    X,y = np.array(X),np.array(y)\n",
        "\n",
        "    return X, y\n",
        "\n",
        "x_test = []\n",
        "y_test = []\n",
        "x_train = []\n",
        "y_train = []\n",
        "\n",
        "for i in range(60, data_train.shape[0] - 1):\n",
        "    x_train.append(data_training[i - 60:i])\n",
        "    y_train.append(data_training[i + 1, 3])\n",
        "\n",
        "for i in range(60, data_test.shape[0] - 1):\n",
        "    x_test.append(data_testing[i-60:i])\n",
        "    y_test.append(data_testing[i + 1, 3])\n",
        "\n",
        "x_train, y_train = np.array(x_train), np.array(y_train)\n",
        "x_test, y_test = np.array(x_test), np.array(y_test)\n",
        "\n",
        "print(x_test.shape)\n",
        "print(x_train.shape)"
      ],
      "execution_count": 7,
      "outputs": [
        {
          "output_type": "stream",
          "text": [
            "(6755, 60, 5)\n",
            "(15845, 60, 5)\n"
          ],
          "name": "stdout"
        }
      ]
    },
    {
      "cell_type": "markdown",
      "metadata": {
        "id": "liUpoo5jw1-N"
      },
      "source": [
        "#### Bot"
      ]
    },
    {
      "cell_type": "code",
      "metadata": {
        "id": "53OhfUWmqlLZ"
      },
      "source": [
        "class Bot():\n",
        "  def __init__(self):\n",
        "    self.nb_trade = 0\n",
        "    self.nb_long = 0\n",
        "    self.nb_short = 0\n",
        "    self.open_position = 0\n",
        "    self.price_on_entry = -1\n",
        "    self.roe = []\n",
        "    self.delta = []\n",
        "    self.trade = []\n",
        "  \n",
        "  def long(self, data):\n",
        "    if on_position():\n",
        "      self.nb_trade += 1\n",
        "      self.nb_long += 1\n",
        "      self.open_position += 1\n",
        "      self.price_on_entry = data['open']\n",
        "    else:\n",
        "      return 'Already on position'\n",
        "\n",
        "  def short(self, data):\n",
        "    if on_position():\n",
        "      self.nb_trade += 1\n",
        "      self.nb_short += 1\n",
        "      self.open_position += 1\n",
        "      self.price_on_entry = data['open']\n",
        "    else:\n",
        "      return 'Already on position'\n",
        "  \n",
        "  def close_long(self, data):\n",
        "    if on_position() == False :\n",
        "      self.open_position -= 1\n",
        "      diff = data['open'] - self.price_on_entry\n",
        "      self.delta.append(diff)\n",
        "      ROE = (diff/self.price_on_entry)*100\n",
        "      self.roe.append(ROE)\n",
        "      t = Trade(self.nb_trade, diff, ROE)\n",
        "      self.trade.append(t)\n",
        "    else:\n",
        "      return 'Not on position'\n",
        "  \n",
        "  def close_short(self, data):\n",
        "    if on_position() == False :\n",
        "      self.open_position -= 1\n",
        "      diff = self.price_on_entry - data['open']\n",
        "      self.delta.append(diff)\n",
        "      ROE = (diff/self.price_on_entry)*100\n",
        "      self.roe.append(ROE)\n",
        "      t = Trade(self.nb_trade, diff, ROE)\n",
        "      self.trade.append(t)\n",
        "    else:\n",
        "      return 'Not on position'\n",
        "  \n",
        "  def on_position(self):\n",
        "    if self.open_position > 0:\n",
        "      return True\n",
        "    else:\n",
        "      return False\n",
        "\n",
        "  def add_trade(self, i):\n",
        "    t = Trade(i, 100, 10)\n",
        "    self.trade.append(t)\n",
        "\n",
        "  def on_profit(self):\n",
        "    if len(self.roe) > 0 and self.nb_trade > 0:\n",
        "      mean_roe = sum(self.roe) / len(self.roe)\n",
        "      if mean_roe > 0:\n",
        "        return True, mean_roe\n",
        "      else:\n",
        "          return False, mean_roe\n",
        "    else:\n",
        "      print('No trade yet')\n",
        "      return\n",
        "  \n",
        "  def show_trades(self):\n",
        "    df_trade = pd.DataFrame.from_records([trade.to_dict() for trade in self.trade])\n",
        "    return df_trade\n",
        "\n",
        "class Trade():\n",
        "  def __init__(self, nb_trade, delta, roe):\n",
        "    self.nb_trade = nb_trade\n",
        "    self.delta = delta\n",
        "    self.roe = roe\n",
        "  \n",
        "  def to_string(self):\n",
        "    print('Trade #' + str(self.nb_trade) + ' - Delta : ' + str(self.delta) + ' - PNL : ' + str(self.roe))\n",
        "  \n",
        "  def to_dict(self):\n",
        "    return {\n",
        "        '#': self.nb_trade,\n",
        "        'Delta': self.delta,\n",
        "        'PNL': self.roe\n",
        "    }"
      ],
      "execution_count": 64,
      "outputs": []
    },
    {
      "cell_type": "markdown",
      "metadata": {
        "id": "RuNlROHAn02k"
      },
      "source": [
        "## Defining the scoring system"
      ]
    },
    {
      "cell_type": "markdown",
      "metadata": {
        "id": "SdLIMBLBn554"
      },
      "source": [
        "\n",
        "Le bot de trading déterminera les ordres d'achat ou de vente si les conditions suivantes sont validées. La méthode de scoring permet de mettre une stratégie en place dès qu'un nombre définit de condition sont réunis\n",
        "\n",
        "*   MA200 (donne la tendance générale du mouvement)\n",
        "  *   Au dessus du cours -> Achat +1\n",
        "  *   En dessous -> Vente -1\n",
        "*   RSI\n",
        "  *   Si en survente -> Achat +1\n",
        "  *   En surachat -> Vente -1\n",
        "*   Prédiction AI model\n",
        "  * Si 1 -> +2\n",
        "  * Si 0 -> -2"
      ]
    },
    {
      "cell_type": "code",
      "metadata": {
        "id": "GPuPiPTH4lqH"
      },
      "source": [
        "# Initialisation du Bot\n",
        "btcBot = Bot()\n",
        "\n",
        "btcBot = Bot()\n",
        "btcBot.add_trade(1)\n",
        "btcBot.add_trade(2)\n",
        "btcBot.add_trade(3)\n",
        "\n",
        "df_trade = btcBot.show_trades()\n",
        "print(df_trade)"
      ],
      "execution_count": null,
      "outputs": []
    },
    {
      "cell_type": "code",
      "metadata": {
        "id": "GM1lkiNrn4yc"
      },
      "source": [
        "# Data à instant t\n",
        "def rules(data):\n",
        "  score = 0\n",
        "  if data['open'] > data['MA200'] :\n",
        "    score += 1\n",
        "  if data['open'] < data['MA200']:\n",
        "    score -= 1\n",
        "  if data['RSI'] > 70:\n",
        "    score -= 1\n",
        "  if data['RSI'] < 70:\n",
        "    score += 1\n",
        "  if data['pred'] == 1:\n",
        "    score += 2\n",
        "  if data['pred'] == 0:\n",
        "    score -= 2\n",
        "  return score\n",
        "\n",
        "# Score to trigger an order\n",
        "threshold = 2\n",
        "# Target (in %) if reached, then close position\n",
        "target = 10\n",
        "def decision(score):\n",
        "  if score > threshold:\n",
        "    if btcBot.on_position() == False:\n",
        "      btcBot.long()\n",
        "  if score < - threshold:\n",
        "    if btcBot.on_position() == False:\n",
        "      btcBot.short()\n",
        "\n"
      ],
      "execution_count": 10,
      "outputs": []
    },
    {
      "cell_type": "markdown",
      "metadata": {
        "id": "Vsu-if1f7awg"
      },
      "source": [
        "### BackTesting"
      ]
    },
    {
      "cell_type": "code",
      "metadata": {
        "id": "H8wcrJO37csj"
      },
      "source": [
        "def backtest():\n",
        "  for i in range(data):\n",
        "    "
      ],
      "execution_count": null,
      "outputs": []
    },
    {
      "cell_type": "markdown",
      "metadata": {
        "id": "M1lx2m1XZmKR"
      },
      "source": [
        "## AI Model"
      ]
    },
    {
      "cell_type": "code",
      "metadata": {
        "id": "DOezPTP2Zor3"
      },
      "source": [
        "def AI_model():\n",
        "    model = tf.keras.Sequential()\n",
        "\n",
        "    model.add(layer.LSTM(units = 60, activation=tf.nn.relu, return_sequences=True, input_shape= (x_train.shape[1], x_train.shape[2])))\n",
        "    model.add(layer.Dropout(0.4))\n",
        "    model.add(layer.LSTM(units = 60, activation=tf.nn.relu, return_sequences=True))\n",
        "    model.add(layer.Dropout(0.2))\n",
        "    model.add(layer.LSTM(units=60, activation=tf.nn.relu))\n",
        "    model.add(layer.Dropout(0.2))\n",
        "    model.add(layer.Dense(60))\n",
        "    model.add(layer.Dense(6))\n",
        "\n",
        "\n",
        "    # As this is a regression model, we want to calulate the price of the asset for the next day, we use the mean sqaured error as a loss funtion.\n",
        "    # The adam optimizer is the standard in the AI libraries.\n",
        "    model.compile(optimizer='adam',\n",
        "                  loss = 'mean_squared_error')\n",
        "\n",
        "     # Show how the RNN is structured and how many parameters there is.\n",
        "    print(model.summary())\n",
        "\n",
        "    # Fitting the model to the train dataset\n",
        "    # Changing the epoch number will decrease the render time\n",
        "\n",
        "    model.fit(x_train, y_train, epochs=10, batch_size=32)\n",
        "\n",
        "\n",
        "    # Saving the model\n",
        "    model.save('btcAI')"
      ],
      "execution_count": null,
      "outputs": []
    },
    {
      "cell_type": "code",
      "metadata": {
        "id": "i3B7lvLEeiK2"
      },
      "source": [
        "AI_model()"
      ],
      "execution_count": null,
      "outputs": []
    }
  ]
}